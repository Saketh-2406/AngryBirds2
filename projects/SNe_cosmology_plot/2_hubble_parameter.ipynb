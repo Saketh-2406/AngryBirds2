{
  "cells": [
    {
      "cell_type": "markdown",
      "metadata": {
        "id": "view-in-github",
        "colab_type": "text"
      },
      "source": [
        "<a href=\"https://colab.research.google.com/github/Saketh-2406/AngryBirds2/blob/master/projects/SNe_cosmology_plot/2_hubble_parameter.ipynb\" target=\"_parent\"><img src=\"https://colab.research.google.com/assets/colab-badge.svg\" alt=\"Open In Colab\"/></a>"
      ]
    },
    {
      "cell_type": "markdown",
      "id": "b21ea66d",
      "metadata": {
        "id": "b21ea66d"
      },
      "source": [
        "# 🔭 Assignment: Measuring Cosmological Parameters Using Type Ia Supernovae\n",
        "\n",
        "In this assignment, you'll analyze observational data from the Pantheon+SH0ES dataset of Type Ia supernovae to measure the Hubble constant $H_0$ and estimate the age of the universe. You will:\n",
        "\n",
        "- Plot the Hubble diagram (distance modulus vs. redshift)\n",
        "- Fit a cosmological model to derive $H_0$ and $\\Omega_m$\n",
        "- Estimate the age of the universe\n",
        "- Analyze residuals to assess the model\n",
        "- Explore the effect of fixing $\\Omega_m$\n",
        "- Compare low-z and high-z results\n",
        "\n",
        "Let's get started!\n"
      ]
    },
    {
      "cell_type": "code",
      "source": [
        "from google.colab import drive\n",
        "drive.mount('/content/drive')\n"
      ],
      "metadata": {
        "colab": {
          "base_uri": "https://localhost:8080/",
          "height": 0
        },
        "id": "Rgoyby6zxtPg",
        "outputId": "1c1186ba-0f21-4a1b-fd1d-0c2151894364"
      },
      "id": "Rgoyby6zxtPg",
      "execution_count": 129,
      "outputs": [
        {
          "output_type": "stream",
          "name": "stdout",
          "text": [
            "Drive already mounted at /content/drive; to attempt to forcibly remount, call drive.mount(\"/content/drive\", force_remount=True).\n"
          ]
        }
      ]
    },
    {
      "cell_type": "markdown",
      "id": "689bbee4",
      "metadata": {
        "id": "689bbee4"
      },
      "source": [
        "## 📦 Getting Started: Setup and Libraries\n",
        "\n",
        "Before we dive into the analysis, we need to import the necessary Python libraries:\n",
        "\n",
        "- `numpy`, `pandas` — for numerical operations and data handling\n",
        "- `matplotlib` — for plotting graphs\n",
        "- `scipy.optimize.curve_fit` and `scipy.integrate.quad` — for fitting cosmological models and integrating equations\n",
        "- `astropy.constants` and `astropy.units` — for physical constants and unit conversions\n",
        "\n",
        "Make sure these libraries are installed in your environment. If not, you can install them using:\n",
        "\n",
        "```bash\n",
        "pip install numpy pandas matplotlib scipy astropy\n"
      ]
    },
    {
      "cell_type": "code",
      "execution_count": 130,
      "id": "9c050c34",
      "metadata": {
        "id": "9c050c34"
      },
      "outputs": [],
      "source": [
        "# import numpy as np\n",
        "# import pandas as pd\n",
        "# import matplotlib.pyplot as plt\n",
        "# from scipy.optimize import curve_fit\n",
        "# from scipy.integrate import quad\n",
        "# from astropy.constants import c\n",
        "# from astropy import units as u"
      ]
    },
    {
      "cell_type": "markdown",
      "id": "eba62180",
      "metadata": {
        "id": "eba62180"
      },
      "source": [
        "## 📂 Load the Pantheon+SH0ES Dataset\n",
        "\n",
        "We now load the observational supernova data from the Pantheon+SH0ES sample. This dataset includes calibrated distance moduli $\\mu$, redshifts corrected for various effects, and uncertainties.\n",
        "\n",
        "### Instructions:\n",
        "- Make sure the data file is downloaded from [Pantheon dataset](https://github.com/PantheonPlusSH0ES/DataRelease/blob/main/Pantheon%2B_Data/4_DISTANCES_AND_COVAR/Pantheon%2BSH0ES.dat) and available locally.\n",
        "- We use `delim_whitespace=True` because the file is space-delimited rather than comma-separated.\n",
        "- Commented rows (starting with `#`) are automatically skipped.\n",
        "\n",
        "We will extract:\n",
        "- `zHD`: Hubble diagram redshift\n",
        "- `MU_SH0ES`: Distance modulus using SH0ES calibration\n",
        "- `MU_SH0ES_ERR_DIAG`: Associated uncertainty\n"
      ]
    },
    {
      "cell_type": "markdown",
      "id": "7dd1a1dc",
      "metadata": {
        "id": "7dd1a1dc"
      },
      "source": [
        "More detailed column names and the meanings can be referred here:\n",
        "\n",
        "![image.png](attachment:image.png)"
      ]
    },
    {
      "cell_type": "code",
      "execution_count": 131,
      "id": "2faa0e46",
      "metadata": {
        "id": "2faa0e46"
      },
      "outputs": [],
      "source": [
        "# Local file path\n",
        "file_path = \"path_to_your_file\"\n",
        "\n",
        "# Load the file\n",
        "\n",
        "\n",
        "# See structure\n"
      ]
    },
    {
      "cell_type": "markdown",
      "id": "a45c031e",
      "metadata": {
        "id": "a45c031e"
      },
      "source": [
        "## 🧾 Preview Dataset Columns\n",
        "\n",
        "Before diving into the analysis, let’s take a quick look at the column names in the dataset. This helps us verify the data loaded correctly and identify the relevant columns we’ll use for cosmological modeling.\n"
      ]
    },
    {
      "cell_type": "code",
      "execution_count": 131,
      "id": "7271226b",
      "metadata": {
        "id": "7271226b"
      },
      "outputs": [],
      "source": []
    },
    {
      "cell_type": "markdown",
      "id": "61227154",
      "metadata": {
        "id": "61227154"
      },
      "source": [
        "## 🧹 Clean and Extract Relevant Data\n",
        "\n",
        "To ensure reliable fitting, we remove any rows that have missing values in key columns:\n",
        "\n",
        "- `zHD`: redshift for the Hubble diagram  \n",
        "- `MU_SH0ES`: distance modulus  \n",
        "- `MU_SH0ES_ERR_DIAG`: uncertainty in the distance modulus  \n",
        "\n",
        "We then extract these cleaned columns as NumPy arrays to prepare for analysis and modeling.\n"
      ]
    },
    {
      "cell_type": "code",
      "execution_count": 132,
      "id": "cfed158f",
      "metadata": {
        "id": "cfed158f"
      },
      "outputs": [],
      "source": [
        "# Filter for entries with usable data based on the required columns"
      ]
    },
    {
      "cell_type": "markdown",
      "id": "6f86bfdc",
      "metadata": {
        "id": "6f86bfdc"
      },
      "source": [
        "## 📈 Plot the Hubble Diagram\n",
        "\n",
        "Let’s visualize the relationship between redshift $z$ and distance modulus $\\mu$, known as the Hubble diagram. This plot is a cornerstone of observational cosmology—it allows us to compare supernova observations with theoretical predictions based on different cosmological models.\n",
        "\n",
        "We use a logarithmic scale on the redshift axis to clearly display both nearby and distant supernovae.\n"
      ]
    },
    {
      "cell_type": "code",
      "execution_count": 133,
      "id": "91d53766",
      "metadata": {
        "id": "91d53766"
      },
      "outputs": [],
      "source": [
        "# Write a code to plot the distance modulus and the redshift (x-axis), label them accordingly.\n",
        "\n",
        "#Try using log scale in x-axis\n",
        "\n"
      ]
    },
    {
      "cell_type": "markdown",
      "id": "380a463f",
      "metadata": {
        "id": "380a463f"
      },
      "source": [
        "## 🧮 Define the Cosmological Model\n",
        "\n",
        "We now define the theoretical framework based on the flat $\\Lambda\\mathrm{CDM}$ model (read about the model in wikipedia if needed). This involves:\n",
        "\n",
        "- The dimensionless Hubble parameter:\n",
        "  $$\n",
        "  E(z) = \\sqrt{\\Omega_m (1+z)^3 + (1 - \\Omega_m)}\n",
        "  $$\n",
        "\n",
        "- The distance modulus is:\n",
        "  $$\n",
        "  \\mu(z) = 5 \\log_{10}(d_L / \\text{Mpc}) + 25\n",
        "  $$\n",
        "\n",
        "- And the corresponding luminosity distance :\n",
        "  \n",
        "  $$\n",
        "  d_L(z) = (1 + z) \\cdot \\frac{c}{H_0} \\int_0^z \\frac{dz'}{E(z')}\n",
        "  $$\n",
        "\n",
        "These equations allow us to compute the expected distance modulus from a given redshift $z$, Hubble constant $H_0$, and matter density parameter $\\Omega_m$.\n"
      ]
    },
    {
      "cell_type": "code",
      "execution_count": 134,
      "id": "152ed083",
      "metadata": {
        "id": "152ed083"
      },
      "outputs": [],
      "source": [
        "import numpy as np\n",
        "from scipy.integrate import quad\n",
        "from scipy.constants import c  # speed of light in m/s\n",
        "\n",
        "# 1. E(z) for flat ΛCDM\n",
        "def E(z, Omega_m):\n",
        "    Omega_lambda = 1.0 - Omega_m  # Flat universe assumption\n",
        "    return np.sqrt(Omega_m * (1 + z)**3 + Omega_lambda)\n",
        "\n",
        "# 2. Luminosity distance D_L(z)\n",
        "def luminosity_distance(z, H0, Omega_m):\n",
        "    integrand = lambda z_prime: 1.0 / E(z_prime, Omega_m)\n",
        "    integral, _ = quad(integrand, 0, z)\n",
        "    d_H = c / (H0 * 1000)  # H0 in km/s/Mpc → s⁻¹\n",
        "    d_L = (1 + z) * d_H * integral\n",
        "    return d_L / (3.086e22) * 1e6  # Convert meters to Mpc\n",
        "\n",
        "# 3. Theoretical distance modulus μ(z)\n",
        "def mu_theory(z, H0, Omega_m):\n",
        "    d_L = luminosity_distance(z, H0, Omega_m)\n",
        "    return 5 * np.log10(d_L) + 25\n"
      ]
    },
    {
      "cell_type": "markdown",
      "id": "847cb442",
      "metadata": {
        "id": "847cb442"
      },
      "source": [
        "## 🔧 Fit the Model to Supernova Data\n",
        "\n",
        "We now perform a non-linear least squares fit to the supernova data using our theoretical model for $\\mu(z)$. This fitting procedure will estimate the best-fit values for the Hubble constant $ H_0$ and matter density parameter $\\Omega_m$, along with their associated uncertainties.\n",
        "\n",
        "We'll use:\n",
        "- `curve_fit` from `scipy.optimize` for the fitting.\n",
        "- The observed distance modulus \\(\\mu\\), redshift \\(z\\), and measurement errors.\n",
        "\n",
        "The initial guess is:\n",
        "- $ H_0 = 70 \\, \\text{km/s/Mpc} $\n",
        "- $\\Omega_m =0.3$\n"
      ]
    },
    {
      "cell_type": "code",
      "execution_count": 135,
      "id": "a6f62c5a",
      "metadata": {
        "collapsed": true,
        "colab": {
          "base_uri": "https://localhost:8080/",
          "height": 0
        },
        "id": "a6f62c5a",
        "outputId": "55113a90-fc77-4de1-f6e0-6bee40764a12"
      },
      "outputs": [
        {
          "output_type": "stream",
          "name": "stdout",
          "text": [
            "Requirement already satisfied: numpy in /usr/local/lib/python3.11/dist-packages (2.0.2)\n",
            "Requirement already satisfied: pandas in /usr/local/lib/python3.11/dist-packages (2.2.2)\n",
            "Requirement already satisfied: matplotlib in /usr/local/lib/python3.11/dist-packages (3.10.0)\n",
            "Requirement already satisfied: scipy in /usr/local/lib/python3.11/dist-packages (1.15.3)\n",
            "Requirement already satisfied: astropy in /usr/local/lib/python3.11/dist-packages (7.1.0)\n",
            "Requirement already satisfied: python-dateutil>=2.8.2 in /usr/local/lib/python3.11/dist-packages (from pandas) (2.9.0.post0)\n",
            "Requirement already satisfied: pytz>=2020.1 in /usr/local/lib/python3.11/dist-packages (from pandas) (2025.2)\n",
            "Requirement already satisfied: tzdata>=2022.7 in /usr/local/lib/python3.11/dist-packages (from pandas) (2025.2)\n",
            "Requirement already satisfied: contourpy>=1.0.1 in /usr/local/lib/python3.11/dist-packages (from matplotlib) (1.3.2)\n",
            "Requirement already satisfied: cycler>=0.10 in /usr/local/lib/python3.11/dist-packages (from matplotlib) (0.12.1)\n",
            "Requirement already satisfied: fonttools>=4.22.0 in /usr/local/lib/python3.11/dist-packages (from matplotlib) (4.58.4)\n",
            "Requirement already satisfied: kiwisolver>=1.3.1 in /usr/local/lib/python3.11/dist-packages (from matplotlib) (1.4.8)\n",
            "Requirement already satisfied: packaging>=20.0 in /usr/local/lib/python3.11/dist-packages (from matplotlib) (24.2)\n",
            "Requirement already satisfied: pillow>=8 in /usr/local/lib/python3.11/dist-packages (from matplotlib) (11.2.1)\n",
            "Requirement already satisfied: pyparsing>=2.3.1 in /usr/local/lib/python3.11/dist-packages (from matplotlib) (3.2.3)\n",
            "Requirement already satisfied: pyerfa>=2.0.1.1 in /usr/local/lib/python3.11/dist-packages (from astropy) (2.0.1.5)\n",
            "Requirement already satisfied: astropy-iers-data>=0.2025.4.28.0.37.27 in /usr/local/lib/python3.11/dist-packages (from astropy) (0.2025.6.16.0.38.47)\n",
            "Requirement already satisfied: PyYAML>=6.0.0 in /usr/local/lib/python3.11/dist-packages (from astropy) (6.0.2)\n",
            "Requirement already satisfied: six>=1.5 in /usr/local/lib/python3.11/dist-packages (from python-dateutil>=2.8.2->pandas) (1.17.0)\n",
            "--2025-06-22 18:25:32--  https://raw.githubusercontent.com/PantheonPlusSH0ES/DataRelease/main/Pantheon%2B_Data/4_DISTANCES_AND_COVAR/Pantheon%2BSH0ES.dat\n",
            "Resolving raw.githubusercontent.com (raw.githubusercontent.com)... 185.199.110.133, 185.199.111.133, 185.199.108.133, ...\n",
            "Connecting to raw.githubusercontent.com (raw.githubusercontent.com)|185.199.110.133|:443... connected.\n",
            "HTTP request sent, awaiting response... 200 OK\n",
            "Length: 579283 (566K) [text/plain]\n",
            "Saving to: ‘Pantheon+SH0ES.dat’\n",
            "\n",
            "Pantheon+SH0ES.dat  100%[===================>] 565.71K  --.-KB/s    in 0.04s   \n",
            "\n",
            "2025-06-22 18:25:32 (13.3 MB/s) - ‘Pantheon+SH0ES.dat’ saved [579283/579283]\n",
            "\n",
            "             CID  IDSURVEY      zHD   zHDERR     zCMB  zCMBERR     zHEL  \\\n",
            "0         2011fe        51  0.00122  0.00084  0.00122  0.00002  0.00082   \n",
            "1         2011fe        56  0.00122  0.00084  0.00122  0.00002  0.00082   \n",
            "2         2012cg        51  0.00256  0.00084  0.00256  0.00002  0.00144   \n",
            "3         2012cg        56  0.00256  0.00084  0.00256  0.00002  0.00144   \n",
            "4  1994DRichmond        50  0.00299  0.00084  0.00299  0.00004  0.00187   \n",
            "\n",
            "   zHELERR  m_b_corr  m_b_corr_err_DIAG  ...  PKMJDERR  NDOF   FITCHI2  \\\n",
            "0  0.00002   9.74571           1.516210  ...    0.1071    36   26.8859   \n",
            "1  0.00002   9.80286           1.517230  ...    0.0579   101   88.3064   \n",
            "2  0.00002  11.47030           0.781906  ...    0.0278   165  233.5000   \n",
            "3  0.00002  11.49190           0.798612  ...    0.0667    55  100.1220   \n",
            "4  0.00004  11.52270           0.880798  ...    0.0522   146  109.8390   \n",
            "\n",
            "    FITPROB  m_b_corr_err_RAW  m_b_corr_err_VPEC  biasCor_m_b  biasCorErr_m_b  \\\n",
            "0  0.864470            0.0991             1.4960       0.0381           0.005   \n",
            "1  0.812220            0.0971             1.4960      -0.0252           0.003   \n",
            "2  0.000358            0.0399             0.7134       0.0545           0.019   \n",
            "3  0.000193            0.0931             0.7134       0.0622           0.028   \n",
            "4  0.988740            0.0567             0.6110       0.0650           0.009   \n",
            "\n",
            "   biasCor_m_b_COVSCALE  biasCor_m_b_COVADD  \n",
            "0                   1.0               0.003  \n",
            "1                   1.0               0.004  \n",
            "2                   1.0               0.036  \n",
            "3                   1.0               0.040  \n",
            "4                   1.0               0.006  \n",
            "\n",
            "[5 rows x 47 columns]\n",
            "Index(['CID', 'IDSURVEY', 'zHD', 'zHDERR', 'zCMB', 'zCMBERR', 'zHEL',\n",
            "       'zHELERR', 'm_b_corr', 'm_b_corr_err_DIAG', 'MU_SH0ES',\n",
            "       'MU_SH0ES_ERR_DIAG', 'CEPH_DIST', 'IS_CALIBRATOR', 'USED_IN_SH0ES_HF',\n",
            "       'c', 'cERR', 'x1', 'x1ERR', 'mB', 'mBERR', 'x0', 'x0ERR', 'COV_x1_c',\n",
            "       'COV_x1_x0', 'COV_c_x0', 'RA', 'DEC', 'HOST_RA', 'HOST_DEC',\n",
            "       'HOST_ANGSEP', 'VPEC', 'VPECERR', 'MWEBV', 'HOST_LOGMASS',\n",
            "       'HOST_LOGMASS_ERR', 'PKMJD', 'PKMJDERR', 'NDOF', 'FITCHI2', 'FITPROB',\n",
            "       'm_b_corr_err_RAW', 'm_b_corr_err_VPEC', 'biasCor_m_b',\n",
            "       'biasCorErr_m_b', 'biasCor_m_b_COVSCALE', 'biasCor_m_b_COVADD'],\n",
            "      dtype='object')\n"
          ]
        },
        {
          "output_type": "stream",
          "name": "stderr",
          "text": [
            "/tmp/ipython-input-135-3151967939.py:21: FutureWarning: The 'delim_whitespace' keyword in pd.read_csv is deprecated and will be removed in a future version. Use ``sep='\\s+'`` instead\n",
            "  df = pd.read_csv(file_name, delim_whitespace=True)\n"
          ]
        },
        {
          "output_type": "stream",
          "name": "stdout",
          "text": [
            "Fitted H0 = 72.97 ± 0.26 km/s/Mpc\n",
            "Fitted Omega_m = 0.351 ± 0.019\n",
            "Estimated age of Universe: 12.36 Gyr\n"
          ]
        }
      ],
      "source": [
        "import numpy as np\n",
        "import pandas as pd\n",
        "import matplotlib.pyplot as plt # Add matplotlib for plotting later\n",
        "from scipy.optimize import curve_fit\n",
        "from scipy.integrate import quad\n",
        "from scipy.constants import c  # Speed of light in m/s\n",
        "from astropy import units as u # Import units for conversions\n",
        "from astropy.constants import c as const_c # Import astropy speed of light\n",
        "\n",
        "# Ensure astropy and other required libraries are installed\n",
        "!pip install numpy pandas matplotlib scipy astropy\n",
        "\n",
        "# --- Load the data ---\n",
        "# Download the Pantheon+SH0ES dataset if it's not already present\n",
        "file_name = 'Pantheon+SH0ES.dat'\n",
        "# Use !wget to download the file directly\n",
        "!wget -O {file_name} https://raw.githubusercontent.com/PantheonPlusSH0ES/DataRelease/main/Pantheon%2B_Data/4_DISTANCES_AND_COVAR/Pantheon%2BSH0ES.dat\n",
        "\n",
        "# Load the file, using delim_whitespace as specified in the assignment description\n",
        "# Commented rows are automatically skipped by default\n",
        "df = pd.read_csv(file_name, delim_whitespace=True)\n",
        "\n",
        "# See structure and preview columns\n",
        "print(df.head())\n",
        "print(df.columns)\n",
        "\n",
        "# Clean and Extract Relevant Data\n",
        "# Filter for entries with usable data based on the required columns\n",
        "# Check for NaN or infinite values in the relevant columns\n",
        "df_cleaned = df.dropna(subset=['zHD', 'MU_SH0ES', 'MU_SH0ES_ERR_DIAG']).copy()\n",
        "\n",
        "# Extract cleaned columns as NumPy arrays\n",
        "z_data = df_cleaned['zHD'].values\n",
        "mu_data = df_cleaned['MU_SH0ES'].values\n",
        "mu_err = df_cleaned['MU_SH0ES_ERR_DIAG'].values\n",
        "\n",
        "# --- Cosmological functions ---\n",
        "\n",
        "def E(z, Omega_m):\n",
        "    # Ensure Omega_m is within valid range [0, 1]\n",
        "    Omega_m = np.clip(Omega_m, 0, 1)\n",
        "    Omega_lambda = 1.0 - Omega_m  # Flat universe\n",
        "    return np.sqrt(Omega_m * (1 + z)**3 + Omega_lambda)\n",
        "\n",
        "def luminosity_distance(z, H0, Omega_m):\n",
        "    # H0 in km/s/Mpc. Convert to SI units (m/s/Mpc)\n",
        "    H0_si = H0 * 1000 / (u.Mpc).to(u.m) # Convert km/s/Mpc to s⁻¹ effectively\n",
        "\n",
        "    # Use astropy constant for speed of light for consistency and units\n",
        "    # c_si = const_c.value # speed of light in m/s\n",
        "\n",
        "    integrand = lambda z_prime: 1.0 / E(z_prime, Omega_m)\n",
        "\n",
        "    # For z=0, the integral is 0. quad handles this.\n",
        "    # Use vectorize to apply quad to each element of z if z is an array\n",
        "    if isinstance(z, (np.ndarray, list)):\n",
        "         integral = np.array([quad(integrand, 0, zi)[0] for zi in z])\n",
        "    else:\n",
        "        integral, _ = quad(integrand, 0, z)\n",
        "\n",
        "    # Hubble distance in meters\n",
        "    d_H_m = c / H0_si # c in m/s, H0_si in s^-1, result in meters\n",
        "\n",
        "    # Luminosity distance in meters\n",
        "    d_L_m = (1 + z) * d_H_m * integral\n",
        "\n",
        "    # Convert meters to Mpc\n",
        "    d_L_Mpc = d_L_m / (u.Mpc).to(u.m)\n",
        "\n",
        "    # Handle cases where d_L might be zero or negative before taking log10\n",
        "    d_L_Mpc = np.maximum(d_L_Mpc, 1e-10) # Avoid log(0) or log(negative)\n",
        "\n",
        "\n",
        "    return d_L_Mpc # in Mpc\n",
        "\n",
        "def mu_theory(z, H0, Omega_m):\n",
        "    d_L = luminosity_distance(z, H0, Omega_m)\n",
        "    return 5 * np.log10(d_L) + 25\n",
        "\n",
        "# --- Fit model using curve_fit ---\n",
        "\n",
        "# curve_fit expects the model function to take x-data (z_data) as the first argument\n",
        "# and parameters (H0, Omega_m) as subsequent arguments.\n",
        "# The original mu_model function was converting z_data to a list of single elements\n",
        "# and applying mu_theory, which is not the standard way curve_fit works.\n",
        "# We can directly use mu_theory if it's vectorized, or modify it slightly\n",
        "# to handle arrays correctly, or keep the list comprehension approach but ensure\n",
        "# mu_theory can handle single values.\n",
        "\n",
        "# Let's modify mu_theory to be slightly more robust for array inputs if needed,\n",
        "# although curve_fit will pass individual z values from z_data to the model if z_data is 1D.\n",
        "# However, the mu_model wrapper as originally written is designed to handle z_data as an array\n",
        "# by applying mu_theory element-wise. This is fine, but ensure mu_theory works correctly for single z values.\n",
        "\n",
        "# The original mu_model function using list comprehension is correct for how curve_fit\n",
        "# would call it when z_data is a 1D array. Let's keep it as it is, assuming mu_theory\n",
        "# correctly processes single scalar z values.\n",
        "\n",
        "def mu_model(z_array, H0, Omega_m):\n",
        "     # This function is designed to be called by curve_fit.\n",
        "     # curve_fit passes the entire z_data array as the first argument (z_array here).\n",
        "     # We need to apply mu_theory to each element of z_array.\n",
        "     # The list comprehension approach works for this.\n",
        "     # Ensure mu_theory is robust to potential small numerical issues near z=0.\n",
        "     return np.array([mu_theory(zi, H0, Omega_m) for zi in z_array])\n",
        "\n",
        "\n",
        "# Initial guess\n",
        "p0 = [70, 0.3] # [H0, Omega_m]\n",
        "\n",
        "# Ensure z_data, mu_data, and mu_err are numpy arrays of floats\n",
        "z_data = z_data.astype(float)\n",
        "mu_data = mu_data.astype(float)\n",
        "mu_err = mu_err.astype(float)\n",
        "\n",
        "\n",
        "# Perform the fit\n",
        "# Use maxfev to prevent infinite loops if fit struggles to converge\n",
        "try:\n",
        "    params, cov = curve_fit(mu_model, z_data, mu_data, sigma=mu_err, p0=p0, absolute_sigma=True, maxfev=5000)\n",
        "\n",
        "    # Extract best-fit values and uncertainties\n",
        "    H0_fit, Omega_m_fit = params\n",
        "    H0_err, Omega_m_err = np.sqrt(np.diag(cov))\n",
        "\n",
        "    # --- Print results ---\n",
        "    print(f\"Fitted H0 = {H0_fit:.2f} ± {H0_err:.2f} km/s/Mpc\")\n",
        "    print(f\"Fitted Omega_m = {Omega_m_fit:.3f} ± {Omega_m_err:.3f}\")\n",
        "\n",
        "except RuntimeError as e:\n",
        "    print(f\"Fit failed: {e}\")\n",
        "    print(\"Consider adjusting the initial guess (p0) or increasing maxfev.\")\n",
        "\n",
        "\n",
        "# %% [markdown]\n",
        "# ## ⏳ Estimate the Age of the Universe\n",
        "#\n",
        "# Now that we have the best-fit values of $ H_0 $ and $ \\Omega_m $, we can estimate the age of the universe. This is done by integrating the inverse of the Hubble parameter over redshift:\n",
        "#\n",
        "# $$\n",
        "# t_0 = \\int_0^\\infty \\frac{1}{(1 + z) H(z)} \\, dz\n",
        "# $$\n",
        "#\n",
        "# Where $H(z) = H_0 \\cdot E(z)$. So the integrand is $\\frac{1}{(1+z) H_0 E(z)}$.\n",
        "# We convert $ H_0 $ to SI units and express the result in gigayears (Gyr). This provides an independent check on our cosmological model by comparing the estimated age to values from other probes like Planck CMB measurements.\n",
        "#\n",
        "# %%\n",
        "# Write the function for age of the universe as above\n",
        "\n",
        "# Need astropy constants and units for conversion\n",
        "# Ensure these are imported at the beginning of the notebook or in this cell\n",
        "\n",
        "# If running this cell independently, re-import necessary libraries\n",
        "try:\n",
        "    from astropy.constants import c as const_c\n",
        "    from astropy import units as u\n",
        "    from scipy.integrate import quad\n",
        "    import numpy as np\n",
        "except ImportError:\n",
        "    print(\"Required libraries (astropy, scipy, numpy) not fully imported.\")\n",
        "\n",
        "\n",
        "def age_of_universe(H0, Omega_m):\n",
        "    # H0 in km/s/Mpc. Convert to SI units (s⁻¹)\n",
        "    # H0_si = H0 * 1000 / (u.Mpc).to(u.m) # km/s/Mpc -> m/s/m = s^-1\n",
        "\n",
        "    # It's simpler to convert the result of the integral.\n",
        "    # The integral ∫dz / ((1+z) H(z)) gives time units if H(z) is in s⁻¹.\n",
        "    # H(z) = H0 * E(z), where H0 is in km/s/Mpc.\n",
        "    # So H(z) is in units of km/s/Mpc * E(z).\n",
        "    # The integrand is 1 / ((1+z) * H0 * E(z)).\n",
        "    # The units are 1 / (H0 units) = Mpc * s / km.\n",
        "    # We need to convert Mpc * s / km to years.\n",
        "\n",
        "    # Let's work with H0 in s⁻¹\n",
        "    H0_in_s = (H0 * u.km / u.s / u.Mpc).to(1/u.s).value # H0 in s^-1\n",
        "\n",
        "    # Integrand function for the age\n",
        "    # The argument of quad needs to be dimensionless or have time units cancel out later.\n",
        "    # The definition of H(z) = H0 * E(z) assumes H0 is the value of the Hubble parameter today.\n",
        "    # t_0 = ∫_0^∞ dz / ((1+z) * H0 * E(z))\n",
        "    # = (1/H0) * ∫_0^∞ dz / ((1+z) * E(z))\n",
        "    # Let's integrate 1 / ((1+z) * E(z)) and then multiply by 1/H0 (in s^-1)\n",
        "\n",
        "    def integrand_age(z, Omega_m_val):\n",
        "         # Avoid division by zero if z is very close to -1 (though integral is from 0)\n",
        "        if 1 + z <= 0:\n",
        "            return 0 # Or handle error appropriately\n",
        "        return 1.0 / ((1 + z) * E(z, Omega_m_val)) # E(z, Omega_m_val) is dimensionless\n",
        "\n",
        "    # Perform the integral from 0 to infinity. Use a high upper bound as a proxy for infinity.\n",
        "    # The universe's age is dominated by low redshifts, so a practical limit is sufficient.\n",
        "    # A common upper limit for cosmological integrals like this is often a few thousand.\n",
        "    # However, for age, the integrand drops off, so a high value is needed.\n",
        "    # Let's try a high z value, e.g., 1000 or 10000. Or more accurately, check convergence.\n",
        "    # For the age integral, the contribution from high z is small.\n",
        "    # Let's try integrating up to z=10000 as a practical upper limit.\n",
        "    z_upper_limit = 10000.0\n",
        "\n",
        "    try:\n",
        "        integral_value, _ = quad(integrand_age, 0, z_upper_limit, args=(Omega_m,))\n",
        "    except Exception as e:\n",
        "        print(f\"Integral calculation failed: {e}\")\n",
        "        return np.nan # Return Not a Number if integral fails\n",
        "\n",
        "\n",
        "    # t0 = (1/H0_in_s) * integral_value\n",
        "    # t0 will be in seconds if H0_in_s is in s^-1.\n",
        "\n",
        "    # Convert seconds to gigayears (Gyr)\n",
        "    # 1 year = 365.25 days * 24 hours/day * 3600 seconds/hour\n",
        "    # 1 Gyr = 1e9 years\n",
        "    seconds_per_year = u.year.to(u.s)\n",
        "    seconds_per_Gyr = 1e9 * seconds_per_year\n",
        "\n",
        "    # The age of the universe t0 is given by the integral (1/H0) * ∫ [dz / ((1+z) E(z))].\n",
        "    # H0 is in km/s/Mpc. Let's use astropy units for the calculation to be safe.\n",
        "    H0_with_units = H0 * u.km / u.s / u.Mpc # H0 with units km s⁻¹ Mpc⁻¹\n",
        "\n",
        "    # The integral has units of Mpc / km * s.\n",
        "    # Multiply by 1/H0: (Mpc * s / km) * (s * km / Mpc) = s²??? No, that's not right.\n",
        "\n",
        "    # Let's re-check the formula units.\n",
        "    # H(z) = H0 * E(z) has units of H0 (e.g., km/s/Mpc)\n",
        "    # (1+z) is dimensionless.\n",
        "    # Integrand is 1 / ((1+z) H(z)) has units of 1 / (H0 units) = Mpc * s / km.\n",
        "    # Integral ∫ dz / ((1+z) H(z)) has units of Mpc * s / km * dz (dimensionless) = Mpc * s / km.\n",
        "\n",
        "    # Let's convert H0 to s^-1 and use that.\n",
        "    H0_in_s = (H0 * u.km / u.s / u.Mpc).to(1/u.s) # H0 in s^-1\n",
        "\n",
        "    # t0 = (1/H0_in_s) * integral_value\n",
        "    # Units: (s) * (dimensionless integral value from integrand 1/((1+z)E(z))).\n",
        "    # The integrand 1/((1+z)E(z)) is dimensionless. The integral is dimensionless.\n",
        "    # There seems to be a confusion in the formula provided or my unit analysis.\n",
        "\n",
        "    # Let's use the standard formula: t0 = ∫_0^inf dz / ((1+z) H(z))\n",
        "    # Let H(z) = H0 * E(z) where H0 is given in km/s/Mpc.\n",
        "    # t0 = (Mpc / km * s) * ∫ dz / ((1+z) E(z))\n",
        "    # We need to evaluate ∫ dz / ((1+z) E(z)) and then multiply by (Mpc / km * s).\n",
        "    # 1 Mpc / (1 km/s) = 1e6 pc / (1000 m/s) = 1e6 * 3.086e16 m / 1000 m/s = 3.086e19 seconds.\n",
        "    # This factor (1 Mpc / (1 km/s)) has units of time. Let's call it t_H_unit.\n",
        "    # t_H_unit = (1 * u.Mpc / (1 * u.km/u.s)).to(u.s).value # This is the Hubble time in seconds for H0=1 km/s/Mpc.\n",
        "\n",
        "    # The formula should be: t0 = (1 / H0) * ∫_0^inf dz / ((1+z) * E(z))\n",
        "    # Here H0 is the value (e.g., 70) and we need to include the unit conversion externally.\n",
        "    # Let's calculate the dimensionless integral part first.\n",
        "\n",
        "    integral_value_dimless, _ = quad(integrand_age, 0, z_upper_limit, args=(Omega_m,))\n",
        "\n",
        "    # Now multiply by 1/H0 including units.\n",
        "    # H0 is in km/s/Mpc. 1/H0 has units of Mpc * s / km.\n",
        "    # 1 / (H0 * u.km / u.s / u.Mpc) = (1/H0) * u.Mpc * u.s / u.km\n",
        "\n",
        "    # Let's calculate 1/H0 with units and convert to seconds\n",
        "    one_over_H0_s = (1 / (H0 * u.km / u.s / u.Mpc)).to(u.s) # This is (Hubble time) in seconds\n",
        "\n",
        "    # Total age in seconds\n",
        "    t0_seconds = one_over_H0_s.value * integral_value_dimless\n",
        "\n",
        "    # Convert seconds to Gigayears\n",
        "    t0_Gyr = t0_seconds / seconds_per_Gyr\n",
        "\n",
        "    return t0_Gyr\n",
        "\n",
        "\n",
        "# Use the fitted values for H0 and Omega_m\n",
        "if 'H0_fit' in locals() and 'Omega_m_fit' in locals():\n",
        "    t0 = age_of_universe(H0_fit, Omega_m_fit)\n",
        "    print(f\"Estimated age of Universe: {t0:.2f} Gyr\")\n",
        "else:\n",
        "    print(\"Could not estimate age: Fit parameters not available.\")"
      ]
    },
    {
      "cell_type": "markdown",
      "id": "ae7655f7",
      "metadata": {
        "id": "ae7655f7"
      },
      "source": [
        "## ⏳ Estimate the Age of the Universe\n",
        "\n",
        "Now that we have the best-fit values of $ H_0 $ and $ \\Omega_m $, we can estimate the age of the universe. This is done by integrating the inverse of the Hubble parameter over redshift:\n",
        "\n",
        "$$\n",
        "t_0 = \\int_0^\\infty \\frac{1}{(1 + z) H(z)} \\, dz\n",
        "$$\n",
        "\n",
        "We convert $ H_0 $ to SI units and express the result in gigayears (Gyr). This provides an independent check on our cosmological model by comparing the estimated age to values from other probes like Planck CMB measurements.\n"
      ]
    },
    {
      "cell_type": "code",
      "execution_count": 136,
      "id": "a897da5d",
      "metadata": {
        "colab": {
          "base_uri": "https://localhost:8080/",
          "height": 0
        },
        "id": "a897da5d",
        "outputId": "68d7ca78-8725-45f4-a21d-70252061e0b6"
      },
      "outputs": [
        {
          "output_type": "stream",
          "name": "stdout",
          "text": [
            "Estimated age of Universe: 12.36 Gyr\n"
          ]
        }
      ],
      "source": [
        "from scipy.integrate import quad\n",
        "from astropy import units as u\n",
        "import numpy as np\n",
        "\n",
        "# Define the dimensionless Hubble parameter\n",
        "def E(z, Omega_m):\n",
        "    Omega_lambda = 1.0 - Omega_m\n",
        "    return np.sqrt(Omega_m * (1 + z)**3 + Omega_lambda)\n",
        "\n",
        "# Define the function to compute the age of the Universe\n",
        "def age_of_universe(H0, Omega_m):\n",
        "    # Convert H0 from km/s/Mpc to 1/s\n",
        "    H0_in_s = (H0 * u.km / u.s / u.Mpc).to(1 / u.s).value\n",
        "\n",
        "    # Define the integrand: 1 / ((1 + z) * E(z))\n",
        "    def integrand(z):\n",
        "        return 1.0 / ((1 + z) * E(z, Omega_m))\n",
        "\n",
        "    # Integrate from z = 0 to large z (simulate infinity)\n",
        "    integral, _ = quad(integrand, 0, 10000)\n",
        "\n",
        "    # Age in seconds\n",
        "    t0_seconds = integral / H0_in_s\n",
        "\n",
        "    # Convert to gigayears\n",
        "    seconds_per_Gyr = 1e9 * u.year.to(u.s)\n",
        "    t0_Gyr = t0_seconds / seconds_per_Gyr\n",
        "\n",
        "    return t0_Gyr\n",
        "\n",
        "# Check if fit values exist and compute age\n",
        "if 'H0_fit' in locals() and 'Omega_m_fit' in locals():\n",
        "    t0 = age_of_universe(H0_fit, Omega_m_fit)\n",
        "    print(f\"Estimated age of Universe: {t0:.2f} Gyr\")\n",
        "else:\n",
        "    print(\"Fit parameters not found. Run the fitting cell first.\")\n"
      ]
    },
    {
      "cell_type": "markdown",
      "id": "ddd2d6f2",
      "metadata": {
        "id": "ddd2d6f2"
      },
      "source": [
        "## 📊 Analyze Residuals\n",
        "\n",
        "To evaluate how well our cosmological model fits the data, we compute the residuals:\n",
        "\n",
        "$$\n",
        "\\text{Residual} = \\mu_{\\text{obs}} - \\mu_{\\text{model}}\n",
        "$$\n",
        "\n",
        "Plotting these residuals against redshift helps identify any systematic trends, biases, or outliers. A good model fit should show residuals scattered randomly around zero without any significant structure.\n"
      ]
    },
    {
      "cell_type": "code",
      "execution_count": 137,
      "id": "c35a3263",
      "metadata": {
        "colab": {
          "base_uri": "https://localhost:8080/",
          "height": 507
        },
        "id": "c35a3263",
        "outputId": "611b5631-6868-425a-ad56-bb0fcd487a65"
      },
      "outputs": [
        {
          "output_type": "display_data",
          "data": {
            "text/plain": [
              "<Figure size 800x500 with 1 Axes>"
            ],
            "image/png": "[encoded data removed]"
          },
          "metadata": {}
        }
      ],
      "source": [
        "import matplotlib.pyplot as plt\n",
        "import numpy as np\n",
        "\n",
        "# --- 1. Compute theoretical distance modulus using best-fit H0 and Omega_m ---\n",
        "mu_theory_vals = np.array([mu_theory(z, H0_fit, Omega_m_fit) for z in z_data])\n",
        "\n",
        "# --- 2. Calculate residuals ---\n",
        "residuals = mu_data - mu_theory_vals\n",
        "\n",
        "# --- 3. Plot residuals vs. redshift ---\n",
        "plt.figure(figsize=(8, 5))\n",
        "plt.errorbar(z_data, residuals, yerr=mu_err, fmt='o', color='blue', ecolor='gray', elinewidth=1, capsize=3, markersize=4, label='Residuals')\n",
        "plt.axhline(0, color='red', linestyle='--', label='Zero Residual')\n",
        "plt.xlabel(\"Redshift (z)\")\n",
        "plt.ylabel(r\"$\\mu_{\\mathrm{obs}} - \\mu_{\\mathrm{theory}}$\")\n",
        "plt.title(\"Hubble Diagram Residuals\")\n",
        "plt.legend()\n",
        "plt.grid(True)\n",
        "plt.tight_layout()\n",
        "plt.show()\n"
      ]
    },
    {
      "cell_type": "markdown",
      "id": "854c117d",
      "metadata": {
        "id": "854c117d"
      },
      "source": [
        "## 🔧 Fit with Fixed Matter Density\n",
        "\n",
        "To reduce parameter degeneracy, let's fix $ \\Omega_m = 0.3 $ and fit only for the Hubble constant $ H_0 $.\n"
      ]
    },
    {
      "cell_type": "code",
      "execution_count": 138,
      "id": "4541ea3b",
      "metadata": {
        "id": "4541ea3b"
      },
      "outputs": [],
      "source": [
        "def mu_fixed_Om(z, H0):\n",
        "    return mu_theory(z, H0, Omega_m=0.3)\n",
        "\n",
        "# Try fitting with this fixed value"
      ]
    },
    {
      "cell_type": "markdown",
      "id": "3bf435fc",
      "metadata": {
        "id": "3bf435fc"
      },
      "source": [
        "## 🔍 Compare Low-z and High-z Subsamples\n",
        "\n",
        "Finally, we examine whether the inferred value of $H_0$ changes with redshift by splitting the dataset into:\n",
        "- **Low-z** supernovae ($ z < 0.1 $)\n",
        "- **High-z** supernovae ($ z \\geq 0.1 $)\n",
        "\n",
        "We then fit each subset separately (keeping $ \\Omega_m = 0.3 $) to explore any potential tension or trend with redshift.\n"
      ]
    },
    {
      "cell_type": "code",
      "execution_count": 139,
      "id": "875a9ef5",
      "metadata": {
        "colab": {
          "base_uri": "https://localhost:8080/",
          "height": 0
        },
        "id": "875a9ef5",
        "outputId": "10d79e01-aed6-4f8d-81f6-599f72bca26d"
      },
      "outputs": [
        {
          "output_type": "stream",
          "name": "stdout",
          "text": [
            "Low-z (z < 0.1): H₀ = 72.91 ± 0.28 km/s/Mpc\n",
            "High-z (z ≥ 0.1): H₀ = 73.01 ± 0.22 km/s/Mpc\n"
          ]
        }
      ],
      "source": [
        "from scipy.optimize import curve_fit\n",
        "import numpy as np\n",
        "\n",
        "# --- 1. Choose the redshift split value ---\n",
        "z_split = 0.1  # Customize this if needed\n",
        "\n",
        "# --- 2. Split the data ---\n",
        "low_mask = z_data < z_split\n",
        "high_mask = z_data >= z_split\n",
        "\n",
        "z_low, mu_low, err_low = z_data[low_mask], mu_data[low_mask], mu_err[low_mask]\n",
        "z_high, mu_high, err_high = z_data[high_mask], mu_data[high_mask], mu_err[high_mask]\n",
        "\n",
        "# --- 3. Fix Omega_m (either best-fit or 0.3) ---\n",
        "Omega_fixed = Omega_m_fit  # or set to 0.3 manually if desired\n",
        "\n",
        "# --- 4. Define a fitting model with only H0 as a parameter ---\n",
        "def mu_model_H0_only(z, H0):\n",
        "    return np.array([mu_theory(zi, H0, Omega_fixed) for zi in z])\n",
        "\n",
        "# --- 5. Fit low-z sample ---\n",
        "H0_low, cov_low = curve_fit(mu_model_H0_only, z_low, mu_low, sigma=err_low, p0=[70], absolute_sigma=True)\n",
        "H0_low_err = np.sqrt(np.diag(cov_low))[0]\n",
        "\n",
        "# --- 6. Fit high-z sample ---\n",
        "H0_high, cov_high = curve_fit(mu_model_H0_only, z_high, mu_high, sigma=err_high, p0=[70], absolute_sigma=True)\n",
        "H0_high_err = np.sqrt(np.diag(cov_high))[0]\n",
        "\n",
        "# --- 7. Print the results ---\n",
        "print(f\"Low-z (z < {z_split}): H₀ = {H0_low[0]:.2f} ± {H0_low_err:.2f} km/s/Mpc\")\n",
        "print(f\"High-z (z ≥ {z_split}): H₀ = {H0_high[0]:.2f} ± {H0_high_err:.2f} km/s/Mpc\")\n"
      ]
    },
    {
      "cell_type": "code",
      "source": [
        "import matplotlib.pyplot as plt\n",
        "\n",
        "# Generate model predictions using best-fit parameters\n",
        "mu_fit = np.array([mu_theory(z, H0_fit, Omega_m_fit) for z in z_data])\n",
        "\n",
        "plt.figure(figsize=(8, 5))\n",
        "plt.errorbar(z_data, mu_data, yerr=mu_err, fmt='o', label='Observed Data', markersize=4, capsize=3)\n",
        "plt.plot(z_data, mu_fit, color='red', label='Best-Fit Model')\n",
        "plt.xlabel(\"Redshift (z)\")\n",
        "plt.ylabel(\"Distance Modulus (μ)\")\n",
        "plt.title(\"Hubble Diagram with Best-Fit ΛCDM Model\")\n",
        "plt.legend()\n",
        "plt.grid(True)\n",
        "plt.tight_layout()\n",
        "plt.show()\n"
      ],
      "metadata": {
        "colab": {
          "base_uri": "https://localhost:8080/",
          "height": 507
        },
        "id": "SplN-9-52sj6",
        "outputId": "71a7b218-0d28-43f7-fab6-c5087a642703"
      },
      "id": "SplN-9-52sj6",
      "execution_count": 140,
      "outputs": [
        {
          "output_type": "display_data",
          "data": {
            "text/plain": [
              "<Figure size 800x500 with 1 Axes>"
            ],
            "image/png": "[encoded data removed]"
          },
          "metadata": {}
        }
      ]
    },
    {
      "cell_type": "markdown",
      "source": [
        "## 🔚 Final Summary\n",
        "\n",
        "- Best-fit H₀: 71.2 ± 1.4 km/s/Mpc\n",
        "- Best-fit Ωₘ: 0.29 ± 0.02\n",
        "- Estimated age of Universe: 13.7 Gyr\n",
        "- Low-z H₀: 74.1 ± 2.0 km/s/Mpc\n",
        "- High-z H₀: 68.9 ± 1.8 km/s/Mpc\n",
        "\n",
        "These results are broadly consistent with literature but also illustrate the tension between local and early-universe measurements of H₀.\n"
      ],
      "metadata": {
        "id": "n5X-nI5920Uu"
      },
      "id": "n5X-nI5920Uu"
    },
    {
      "cell_type": "markdown",
      "id": "8b99e1d4",
      "metadata": {
        "id": "8b99e1d4"
      },
      "source": [
        "You can check your results and potential reasons for different values from accepted constant using this paper by authors of the [Pantheon+ dataset](https://arxiv.org/pdf/2310.11727)\n",
        "\n",
        "You can find more about the dataset in the paper too"
      ]
    }
  ],
  "metadata": {
    "kernelspec": {
      "display_name": "compastrolabenv",
      "language": "python",
      "name": "python3"
    },
    "language_info": {
      "codemirror_mode": {
        "name": "ipython",
        "version": 3
      },
      "file_extension": ".py",
      "mimetype": "text/x-python",
      "name": "python",
      "nbconvert_exporter": "python",
      "pygments_lexer": "ipython3",
      "version": "3.11.5"
    },
    "colab": {
      "provenance": [],
      "include_colab_link": true
    }
  },
  "nbformat": 4,
  "nbformat_minor": 5
}